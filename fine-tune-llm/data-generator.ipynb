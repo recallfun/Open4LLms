{
 "cells": [
  {
   "cell_type": "code",
   "execution_count": 1,
   "metadata": {},
   "outputs": [],
   "source": [
    "prepare_data_set_file_path='/home/recallfun/webapps/foodblog/fine-tune-llm/prepare_dataset.jsonl'\n",
    "dishes_file_path='/home/recallfun/webapps/foodblog/fine-tune-llm/dishes'\n",
    "open_ai_input_json_objects_file_path='/home/recallfun/webapps/foodblog/fine-tune-llm/open_ai_input_dataset.jsonl'\n",
    "open_ai_response_file_path='/home/recallfun/webapps/foodblog/fine-tune-llm/open_ai_response_dataset.jsonl'\n",
    "mistral_fine_tune_data_path='/home/recallfun/webapps/foodblog/fine-tune-llm/mistral_finetune_dataset.jsonl'\n",
    "index_file_path='/home/recallfun/webapps/foodblog/fine-tune-llm/index.json'\n",
    "alpaca_fine_tune_data_path='/home/recallfun/webapps/foodblog/fine-tune-llm/alpaca_finetune_dataset.jsonl'"
   ]
  },
  {
   "cell_type": "code",
   "execution_count": 10,
   "metadata": {},
   "outputs": [
    {
     "name": "stdout",
     "output_type": "stream",
     "text": [
      "57\n"
     ]
    }
   ],
   "source": [
    "test_formatting_samples=[\n",
    "    {\"bold\": True, \"italic\": False, \"fontSize\": \"16px\", \"fontColor\": \"#333333\"},\n",
    "    {\"bold\": False, \"italic\": True, \"fontSize\": \"14px\", \"fontColor\": \"#990000\"},\n",
    "    {\"bold\": True, \"italic\": True, \"fontSize\": \"18px\", \"fontColor\": \"#0066cc\"},\n",
    "    {\"bold\": False, \"italic\": False, \"fontSize\": \"12px\", \"fontColor\": \"#009900\"},\n",
    "    {\"bold\": True, \"italic\": False, \"fontSize\": \"14px\", \"fontColor\": \"#663300\"},\n",
    "    {\"bold\": False, \"italic\": True, \"fontSize\": \"16px\", \"fontColor\": \"#cc0033\"},\n",
    "    {\"bold\": True, \"italic\": True, \"fontSize\": \"20px\", \"fontColor\": \"#660099\"},\n",
    "    {\"bold\": False, \"italic\": False, \"fontSize\": \"18px\", \"fontColor\": \"#ffcc00\"},\n",
    "    {\"bold\": True, \"italic\": False, \"fontSize\": \"12px\", \"fontColor\": \"#336699\"},\n",
    "    {\"bold\": False, \"italic\": True, \"fontSize\": \"14px\", \"fontColor\": \"#ff6600\"},\n",
    "    {\"bold\": True, \"italic\": True, \"fontSize\": \"16px\", \"fontColor\": \"#996633\"},\n",
    "    {\"bold\": False, \"italic\": False, \"fontSize\": \"20px\", \"fontColor\": \"#cc9900\"},\n",
    "    {\"bold\": True, \"italic\": False, \"fontSize\": \"14px\", \"fontColor\": \"#006600\"},\n",
    "    {\"bold\": False, \"italic\": True, \"fontSize\": \"18px\", \"fontColor\": \"#cc3300\"},\n",
    "    {\"bold\": True, \"italic\": True, \"fontSize\": \"12px\", \"fontColor\": \"#663399\"},\n",
    "    {\"bold\": False, \"italic\": False, \"fontSize\": \"16px\", \"fontColor\": \"#ff9900\"},\n",
    "    {\"bold\": True, \"italic\": False, \"fontSize\": \"20px\", \"fontColor\": \"#339966\"},\n",
    "    {\"bold\": False, \"italic\": True, \"fontSize\": \"14px\", \"fontColor\": \"#ff3300\"},\n",
    "    {\"bold\": True, \"italic\": True, \"fontSize\": \"18px\", \"fontColor\": \"#996600\"},\n",
    "    {\"bold\": False, \"italic\": False, \"fontSize\": \"12px\", \"fontColor\": \"#3366cc\"},\n",
    "    {\"bold\": True, \"italic\": False, \"fontSize\": \"16px\", \"fontColor\": \"#cc0000\"},\n",
    "    {\"bold\": False, \"italic\": True, \"fontSize\": \"20px\", \"fontColor\": \"#009933\"},\n",
    "    {\"bold\": True, \"italic\": True, \"fontSize\": \"14px\", \"fontColor\": \"#993366\"},\n",
    "    {\"bold\": False, \"italic\": False, \"fontSize\": \"18px\", \"fontColor\": \"#ffcc33\"},\n",
    "    {\"bold\": True, \"italic\": False, \"fontSize\": \"12px\", \"fontColor\": \"#3366ff\"},\n",
    "    {\"bold\": False, \"italic\": True, \"fontSize\": \"16px\", \"fontColor\": \"#ff6633\"},\n",
    "    {\"bold\": True, \"italic\": True, \"fontSize\": \"20px\", \"fontColor\": \"#669900\"},\n",
    "    {\"bold\": False, \"italic\": False, \"fontSize\": \"14px\", \"fontColor\": \"#cc6600\"},\n",
    "    {\"bold\": True, \"italic\": False, \"fontSize\": \"18px\", \"fontColor\": \"#003366\"},\n",
    "    {\"bold\": False, \"italic\": True, \"fontSize\": \"12px\", \"fontColor\": \"#ff0000\"},\n",
    "    {\"bold\": True, \"italic\": True, \"fontSize\": \"16px\", \"fontColor\": \"#996633\"},\n",
    "    {\"bold\": False, \"italic\": False, \"fontSize\": \"20px\", \"fontColor\": \"#cc9900\"},\n",
    "    {\"bold\": True, \"italic\": False, \"fontSize\": \"14px\", \"fontColor\": \"#006600\"},\n",
    "    {\"bold\": False, \"italic\": True, \"fontSize\": \"18px\", \"fontColor\": \"#cc3300\"},\n",
    "    {\"bold\": True, \"italic\": True, \"fontSize\": \"12px\", \"fontColor\": \"#663399\"},\n",
    "    {\"bold\": False, \"italic\": False, \"fontSize\": \"16px\", \"fontColor\": \"#ff9900\"},\n",
    "    {\"bold\": True, \"italic\": False, \"fontSize\": \"20px\", \"fontColor\": \"#339966\"},\n",
    "    {\"bold\": False, \"italic\": True, \"fontSize\": \"14px\", \"fontColor\": \"#ff3300\"},\n",
    "    {\"bold\": True, \"italic\": True, \"fontSize\": \"18px\", \"fontColor\": \"#996600\"},\n",
    "    {\"bold\": False, \"italic\": False, \"fontSize\": \"12px\", \"fontColor\": \"#3366cc\"},\n",
    "    {\"bold\": True, \"italic\": False, \"fontSize\": \"16px\", \"fontColor\": \"#cc0000\"},\n",
    "    {\"bold\": False, \"italic\": True, \"fontSize\": \"20px\", \"fontColor\": \"#009933\"},\n",
    "    {\"bold\": True, \"italic\": True, \"fontSize\": \"14px\", \"fontColor\": \"#993366\"},\n",
    "    {\"bold\": False, \"italic\": False, \"fontSize\": \"18px\", \"fontColor\": \"#ffcc33\"},\n",
    "    {\"bold\": True, \"italic\": False, \"fontSize\": \"12px\", \"fontColor\": \"#3366ff\"},\n",
    "    {\"bold\": False, \"italic\": True, \"fontSize\": \"16px\", \"fontColor\": \"#ff6633\"},\n",
    "    {\"bold\": True, \"italic\": True, \"fontSize\": \"20px\", \"fontColor\": \"#669900\"},\n",
    "    {\"bold\": False, \"italic\": False, \"fontSize\": \"14px\", \"fontColor\": \"#cc6600\"},\n",
    "    {\"bold\": True, \"italic\": False, \"fontSize\": \"18px\", \"fontColor\": \"#003366\"},\n",
    "    {\"bold\": False, \"italic\": True, \"fontSize\": \"12px\", \"fontColor\": \"#ff0000\"},\n",
    "    {\"bold\": True, \"italic\": True, \"fontSize\": \"16px\", \"fontColor\": \"#996633\"},\n",
    "    {\"bold\": False, \"italic\": False, \"fontSize\": \"20px\", \"fontColor\": \"#cc9900\"},\n",
    "    {\"bold\": True, \"italic\": False, \"fontSize\": \"14px\", \"fontColor\": \"#006600\"},\n",
    "    {\"bold\": False, \"italic\": True, \"fontSize\": \"18px\", \"fontColor\": \"#cc3300\"},\n",
    "    {\"bold\": True, \"italic\": True, \"fontSize\": \"12px\", \"fontColor\": \"#663399\"},\n",
    "    {\"bold\": False, \"italic\": False, \"fontSize\": \"16px\", \"fontColor\": \"#ff9900\"},\n",
    "    {\"bold\": True, \"italic\": False, \"fontSize\": \"20px\", \"fontColor\": \"#339966\"}\n",
    "]\n",
    "\n",
    "print(len(test_formatting_samples))"
   ]
  },
  {
   "cell_type": "code",
   "execution_count": 3,
   "metadata": {},
   "outputs": [],
   "source": [
    "template='''You are a helpful assistant whose role is to create posts for the food blog. I will give you the dish name and you will provide the blog data in JSON format.The json format is [{ \"type\": \"title\", \"sequence\": 1, \"text\":\"\",\"formatting\":{} },{ \"type\": \"cuisine\", \"sequence\": 2, \"text\":\"\",\"formatting\":{} },{ \"type\": \"preparationTime\", \"sequence\": 3, \"text\":\"\",\"formatting\":{} },{ \"type\": \"cookingTime\", \"sequence\": 4, \"text\":\"\",\"formatting\":{} },{ \"type\": \"equipmentList\", \"sequence\": 5, \"text\": [],\"formatting\":{} },{ \"type\": \"ingredientList\", \"sequence\": 6, \"text\": [],\"formatting\":{} },{ \"type\": \"instructions\", \"sequence\": 7, \"text\": [],\"formatting\":{}}]. The ingredientList is an array of text. The instructions are also array of text.The elements of the instructions array represent the steps in ascending order. equipmentList is an array of text where each text is the name of the equipment needed to prepare the dish. Each object of the json array will have formatting object with the schema  {\n",
    "    \"bold\": true,\n",
    "    \"italic\": false,\n",
    "    \"fontSize\": \"16px\",\n",
    "    \"fontColor\": \"#333333\"\n",
    "  }. The format object of the type title should have following values schema1. The format object of the type cusinie have following values schema2. The format object of the type equipmentList have following values schema3. The format object of the type ingredientList have following values schema4.The format object of the type instructions have following values schema5.  The rest of the json objects will have the default value in the formatting object schema6.  The name of the dish is \"dishname\".Your task is to add the content in the field \"text\" of every object.'''"
   ]
  },
  {
   "cell_type": "code",
   "execution_count": 11,
   "metadata": {},
   "outputs": [],
   "source": [
    "import random\n",
    "import json\n",
    "\n",
    "# Set the seed for reproducibility (optional)\n",
    "random.seed(42)\n",
    "\n",
    "# Number of iterations\n",
    "num_iterations = 500\n",
    "\n",
    "# Range for random numbers\n",
    "min_value = 0\n",
    "max_value = 55\n",
    "formatted_template_list=[]\n",
    "\n",
    "# Specify the path to your text file\n",
    "file_path = 'dishes'\n",
    "\n",
    "# Open the file in read mode\n",
    "with open(dishes_file_path, 'r') as file:\n",
    "    # Read each line in the file\n",
    "    for line in file:\n",
    "        formatted_template=template\n",
    "        # Create a list of five random numbers\n",
    "        random_numbers = [random.randint(min_value, max_value) for _ in range(7)]\n",
    "        for j in range(6):\n",
    "            formatted_template=formatted_template.replace(f'schema{j + 1}', json.dumps(test_formatting_samples[random_numbers[j]]))\n",
    "        formatted_template_list.append(formatted_template.replace('dishname',line.strip()))"
   ]
  },
  {
   "cell_type": "code",
   "execution_count": 14,
   "metadata": {},
   "outputs": [
    {
     "name": "stdout",
     "output_type": "stream",
     "text": [
      "You are a helpful assistant whose role is to create posts for the food blog. I will give you the dish name and you will provide the blog data in JSON format.The json format is [{ \"type\": \"title\", \"sequence\": 1, \"text\":\"\",\"formatting\":{} },{ \"type\": \"cuisine\", \"sequence\": 2, \"text\":\"\",\"formatting\":{} },{ \"type\": \"preparationTime\", \"sequence\": 3, \"text\":\"\",\"formatting\":{} },{ \"type\": \"cookingTime\", \"sequence\": 4, \"text\":\"\",\"formatting\":{} },{ \"type\": \"equipmentList\", \"sequence\": 5, \"text\": [],\"formatting\":{} },{ \"type\": \"ingredientList\", \"sequence\": 6, \"text\": [],\"formatting\":{} },{ \"type\": \"instructions\", \"sequence\": 7, \"text\": [],\"formatting\":{}}]. The ingredientList is an array of text. The instructions are also array of text.The elements of the instructions array represent the steps in ascending order. equipmentList is an array of text where each text is the name of the equipment needed to prepare the dish. Each object of the json array will have formatting object with the schema  {\n",
      "    \"bold\": true,\n",
      "    \"italic\": false,\n",
      "    \"fontSize\": \"16px\",\n",
      "    \"fontColor\": \"#333333\"\n",
      "  }. The format object of the type title should have following values {\"bold\": true, \"italic\": true, \"fontSize\": \"12px\", \"fontColor\": \"#663399\"}. The format object of the type cusinie have following values {\"bold\": false, \"italic\": true, \"fontSize\": \"14px\", \"fontColor\": \"#ff3300\"}. The format object of the type equipmentList have following values {\"bold\": false, \"italic\": false, \"fontSize\": \"16px\", \"fontColor\": \"#ff9900\"}. The format object of the type ingredientList have following values {\"bold\": true, \"italic\": false, \"fontSize\": \"12px\", \"fontColor\": \"#3366ff\"}.The format object of the type instructions have following values {\"bold\": false, \"italic\": true, \"fontSize\": \"14px\", \"fontColor\": \"#ff3300\"}.  The rest of the json objects will have the default value in the formatting object {\"bold\": true, \"italic\": false, \"fontSize\": \"12px\", \"fontColor\": \"#336699\"}.  The name of the dish is \"Hummus\".Your task is to add the content in the field \"text\" of every object.\n"
     ]
    }
   ],
   "source": [
    "print(formatted_template_list[451])"
   ]
  },
  {
   "cell_type": "code",
   "execution_count": null,
   "metadata": {},
   "outputs": [],
   "source": [
    "# # Randomly select 200 elements from the list\n",
    "# selected_elements = random.sample(formatted_template_list, 200)\n",
    "\n",
    "with open(prepare_data_set_file_path, 'w') as file:\n",
    "        for json_object in formatted_template_list:\n",
    "            json_line = json.dumps(json_object)\n",
    "            file.write(json_line + '\\n')"
   ]
  },
  {
   "cell_type": "code",
   "execution_count": 8,
   "metadata": {},
   "outputs": [],
   "source": [
    "def generate_prompt(content):\n",
    "  return json.dumps([\n",
    "    {\n",
    "      \"role\": \"system\",\n",
    "      \"content\": content\n",
    "    },\n",
    "    {\n",
    "      \"role\": \"user\",\n",
    "      \"content\": \"\"\n",
    "    }\n",
    "  ])\n",
    "\n"
   ]
  },
  {
   "cell_type": "code",
   "execution_count": 15,
   "metadata": {},
   "outputs": [],
   "source": [
    "# open_ai_json_objects = []\n",
    "# with open(prepare_data_set_file_path, 'r') as file:\n",
    "#         for line in file:\n",
    "#             json_object = json.loads(line)\n",
    "#             open_ai_json_objects.append(generate_prompt(line))\n",
    "with open(open_ai_input_json_objects_file_path, 'w') as file:\n",
    "        for json_object in formatted_template_list:\n",
    "            json_line = json.dumps(json_object)\n",
    "            file.write(generate_prompt(json_line) + '\\n')"
   ]
  },
  {
   "cell_type": "code",
   "execution_count": null,
   "metadata": {},
   "outputs": [],
   "source": [
    "import os\n",
    "from openai import OpenAI\n",
    "import json\n",
    "\n",
    "client = OpenAI(api_key='my-precious-key')\n",
    "\n",
    "iteration=0\n",
    "with open(open_ai_input_json_objects_file_path, 'r') as file:\n",
    "        for line in file:\n",
    "          with open(index_file_path, 'r+') as indexfile:\n",
    "              data = json.load(indexfile)\n",
    "              index = data.get('index', 0)\n",
    "          if index<=1:\n",
    "            json_object = json.loads(line)\n",
    "            json_dataset={\"messages\":json_object,\"response\":\"\"}\n",
    "            response = client.chat.completions.create(\n",
    "                      model=\"gpt-4-1106-preview\",\n",
    "                      messages=json_object,\n",
    "                      temperature=1,\n",
    "                      max_tokens=1000,\n",
    "                      top_p=1,\n",
    "                      frequency_penalty=0,\n",
    "                      presence_penalty=0\n",
    "                    )\n",
    "            json_dataset['response']=response.choices[0].message.content\n",
    "            with open(open_ai_response_file_path, \"a\") as f:\n",
    "              json_string = json.dumps(json_dataset)\n",
    "              f.write(json_string + \"\\n\")\n",
    "            with open(index_file_path, 'w') as file:\n",
    "                # Increment the index\n",
    "                data['index'] = index + 1\n",
    "                # Move the file pointer to the beginning and truncate the file\n",
    "                file.seek(0)\n",
    "                file.truncate()\n",
    "                # Write the updated JSON data back to the file\n",
    "                json.dump(data, file)\n",
    "        iteration+=1"
   ]
  },
  {
   "cell_type": "code",
   "execution_count": null,
   "metadata": {},
   "outputs": [],
   "source": [
    "def convert_to_mixtral_format(prompt,response):\n",
    "    mistral_template='''<s>[INST]{prompt}[/INST]{response}</s>\n",
    "    '''\n",
    "    return mistral_template.replace(\"{prompt}\",prompt).replace(\"{response}\",response)"
   ]
  },
  {
   "cell_type": "code",
   "execution_count": 2,
   "metadata": {},
   "outputs": [],
   "source": [
    "def convert_to_alpace_format(prompt,response):\n",
    "    template='''Below is an instruction that describes a task. Write a response that appropriately completes the request.### Instruction: {prompt} ### Response: {response}\n",
    "    '''\n",
    "    return template.replace(\"{prompt}\",prompt).replace(\"{response}\",response)"
   ]
  },
  {
   "cell_type": "code",
   "execution_count": 6,
   "metadata": {},
   "outputs": [],
   "source": [
    "def remove_before_json(input_text):\n",
    "    json_index = input_text.find(\"```json\")\n",
    "    if json_index != -1:\n",
    "        return input_text[json_index+len(\"```json\"):]\n",
    "    else:\n",
    "        # If \"```json\" is not found, return the original text\n",
    "        return input_text"
   ]
  },
  {
   "cell_type": "code",
   "execution_count": null,
   "metadata": {},
   "outputs": [],
   "source": [
    "with open(open_ai_response_file_path, 'r') as file:\n",
    "    for line in file:\n",
    "        print(json.loads(line)['messages'][0]['content'])\n",
    "        break"
   ]
  },
  {
   "cell_type": "code",
   "execution_count": null,
   "metadata": {},
   "outputs": [],
   "source": [
    "with open(open_ai_response_file_path, 'r') as file:\n",
    "    for line in file:\n",
    "        response_text = json.loads(line)\n",
    "        print()\n",
    "        # response_formatted=json.dumps(response_text.replace(\"```json\",\"\").replace(\"```\",\"\"))\n",
    "        mixtral_finetune_prompt=convert_to_mixtral_format(response_text['messages'][0]['content'],remove_before_json(response_text['response']).replace(\"```\",\"\"))\n",
    "        with open(mistral_fine_tune_data_path,'a') as mixtralfile:\n",
    "            json_string=json.dumps({\"text\":mixtral_finetune_prompt})\n",
    "            mixtralfile.write(json_string + \"\\n\")"
   ]
  },
  {
   "cell_type": "code",
   "execution_count": 7,
   "metadata": {},
   "outputs": [],
   "source": [
    "import json\n",
    "with open(open_ai_response_file_path, 'r') as file:\n",
    "    for line in file:\n",
    "        response_text = json.loads(line)\n",
    "        # response_formatted=json.dumps(response_text.replace(\"```json\",\"\").replace(\"```\",\"\"))\n",
    "        mixtral_finetune_prompt=convert_to_alpace_format(response_text['messages'][0]['content'],remove_before_json(response_text['response']).replace(\"```\",\"\"))\n",
    "        with open(alpaca_fine_tune_data_path,'a') as mixtralfile:\n",
    "            json_string=json.dumps({\"text\":mixtral_finetune_prompt})\n",
    "            mixtralfile.write(json_string + \"\\n\")"
   ]
  }
 ],
 "metadata": {
  "kernelspec": {
   "display_name": "ml",
   "language": "python",
   "name": "python3"
  },
  "language_info": {
   "codemirror_mode": {
    "name": "ipython",
    "version": 3
   },
   "file_extension": ".py",
   "mimetype": "text/x-python",
   "name": "python",
   "nbconvert_exporter": "python",
   "pygments_lexer": "ipython3",
   "version": "3.11.5"
  }
 },
 "nbformat": 4,
 "nbformat_minor": 2
}
